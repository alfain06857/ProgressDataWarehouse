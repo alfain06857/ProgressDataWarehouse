{
 "cells": [
  {
   "cell_type": "code",
   "execution_count": 27,
   "id": "35d33992",
   "metadata": {},
   "outputs": [],
   "source": [
    "import pandas as pd\n",
    "import matplotlib.pyplot as plt\n",
    "%matplotlib inline\n",
    "plt.style.use('seaborn')"
   ]
  },
  {
   "cell_type": "code",
   "execution_count": 28,
   "id": "3090182f",
   "metadata": {},
   "outputs": [],
   "source": [
    "data = pd.read_excel('dataset.xls')"
   ]
  },
  {
   "cell_type": "code",
   "execution_count": 29,
   "id": "24dc33a7",
   "metadata": {},
   "outputs": [
    {
     "data": {
      "text/plain": [
       "(14, 5)"
      ]
     },
     "execution_count": 29,
     "metadata": {},
     "output_type": "execute_result"
    }
   ],
   "source": [
    "data.shape"
   ]
  },
  {
   "cell_type": "code",
   "execution_count": 30,
   "id": "df483821",
   "metadata": {},
   "outputs": [
    {
     "data": {
      "text/html": [
       "<div>\n",
       "<style scoped>\n",
       "    .dataframe tbody tr th:only-of-type {\n",
       "        vertical-align: middle;\n",
       "    }\n",
       "\n",
       "    .dataframe tbody tr th {\n",
       "        vertical-align: top;\n",
       "    }\n",
       "\n",
       "    .dataframe thead th {\n",
       "        text-align: right;\n",
       "    }\n",
       "</style>\n",
       "<table border=\"1\" class=\"dataframe\">\n",
       "  <thead>\n",
       "    <tr style=\"text-align: right;\">\n",
       "      <th></th>\n",
       "      <th>Bulan</th>\n",
       "      <th>Laki-Laki</th>\n",
       "      <th>Perempuan</th>\n",
       "      <th>Jumlah Pasien</th>\n",
       "      <th>Hari Rawatan</th>\n",
       "    </tr>\n",
       "  </thead>\n",
       "  <tbody>\n",
       "    <tr>\n",
       "      <th>0</th>\n",
       "      <td>Januari</td>\n",
       "      <td>664.0</td>\n",
       "      <td>758.0</td>\n",
       "      <td>1422.0</td>\n",
       "      <td>4695.0</td>\n",
       "    </tr>\n",
       "    <tr>\n",
       "      <th>1</th>\n",
       "      <td>Februari</td>\n",
       "      <td>550.0</td>\n",
       "      <td>808.0</td>\n",
       "      <td>1358.0</td>\n",
       "      <td>5058.0</td>\n",
       "    </tr>\n",
       "    <tr>\n",
       "      <th>2</th>\n",
       "      <td>Maret</td>\n",
       "      <td>623.0</td>\n",
       "      <td>747.0</td>\n",
       "      <td>1370.0</td>\n",
       "      <td>4727.0</td>\n",
       "    </tr>\n",
       "    <tr>\n",
       "      <th>3</th>\n",
       "      <td>April</td>\n",
       "      <td>269.0</td>\n",
       "      <td>454.0</td>\n",
       "      <td>723.0</td>\n",
       "      <td>2625.0</td>\n",
       "    </tr>\n",
       "    <tr>\n",
       "      <th>4</th>\n",
       "      <td>Mei</td>\n",
       "      <td>328.0</td>\n",
       "      <td>552.0</td>\n",
       "      <td>880.0</td>\n",
       "      <td>2863.0</td>\n",
       "    </tr>\n",
       "    <tr>\n",
       "      <th>5</th>\n",
       "      <td>Juni</td>\n",
       "      <td>439.0</td>\n",
       "      <td>675.0</td>\n",
       "      <td>1114.0</td>\n",
       "      <td>4086.0</td>\n",
       "    </tr>\n",
       "    <tr>\n",
       "      <th>6</th>\n",
       "      <td>Juli</td>\n",
       "      <td>454.0</td>\n",
       "      <td>662.0</td>\n",
       "      <td>1116.0</td>\n",
       "      <td>4040.0</td>\n",
       "    </tr>\n",
       "    <tr>\n",
       "      <th>7</th>\n",
       "      <td>Agustus</td>\n",
       "      <td>302.0</td>\n",
       "      <td>449.0</td>\n",
       "      <td>751.0</td>\n",
       "      <td>2417.0</td>\n",
       "    </tr>\n",
       "    <tr>\n",
       "      <th>8</th>\n",
       "      <td>September</td>\n",
       "      <td>388.0</td>\n",
       "      <td>636.0</td>\n",
       "      <td>1024.0</td>\n",
       "      <td>3664.0</td>\n",
       "    </tr>\n",
       "    <tr>\n",
       "      <th>9</th>\n",
       "      <td>Oktober</td>\n",
       "      <td>294.0</td>\n",
       "      <td>457.0</td>\n",
       "      <td>751.0</td>\n",
       "      <td>3285.0</td>\n",
       "    </tr>\n",
       "    <tr>\n",
       "      <th>10</th>\n",
       "      <td>November</td>\n",
       "      <td>300.0</td>\n",
       "      <td>388.0</td>\n",
       "      <td>688.0</td>\n",
       "      <td>3098.0</td>\n",
       "    </tr>\n",
       "    <tr>\n",
       "      <th>11</th>\n",
       "      <td>Desember</td>\n",
       "      <td>313.0</td>\n",
       "      <td>434.0</td>\n",
       "      <td>747.0</td>\n",
       "      <td>2317.0</td>\n",
       "    </tr>\n",
       "    <tr>\n",
       "      <th>12</th>\n",
       "      <td>Jumlah</td>\n",
       "      <td>4924.0</td>\n",
       "      <td>7020.0</td>\n",
       "      <td>11944.0</td>\n",
       "      <td>42875.0</td>\n",
       "    </tr>\n",
       "    <tr>\n",
       "      <th>13</th>\n",
       "      <td>Sumber : RSUD Kabupaten Aceh Tamiang</td>\n",
       "      <td>NaN</td>\n",
       "      <td>NaN</td>\n",
       "      <td>NaN</td>\n",
       "      <td>NaN</td>\n",
       "    </tr>\n",
       "  </tbody>\n",
       "</table>\n",
       "</div>"
      ],
      "text/plain": [
       "                                   Bulan  Laki-Laki  Perempuan  Jumlah Pasien  \\\n",
       "0                               Januari       664.0      758.0         1422.0   \n",
       "1                               Februari      550.0      808.0         1358.0   \n",
       "2                                  Maret      623.0      747.0         1370.0   \n",
       "3                                  April      269.0      454.0          723.0   \n",
       "4                                    Mei      328.0      552.0          880.0   \n",
       "5                                   Juni      439.0      675.0         1114.0   \n",
       "6                                   Juli      454.0      662.0         1116.0   \n",
       "7                                Agustus      302.0      449.0          751.0   \n",
       "8                              September      388.0      636.0         1024.0   \n",
       "9                                Oktober      294.0      457.0          751.0   \n",
       "10                              November      300.0      388.0          688.0   \n",
       "11                              Desember      313.0      434.0          747.0   \n",
       "12                                Jumlah     4924.0     7020.0        11944.0   \n",
       "13  Sumber : RSUD Kabupaten Aceh Tamiang        NaN        NaN            NaN   \n",
       "\n",
       "    Hari Rawatan  \n",
       "0         4695.0  \n",
       "1         5058.0  \n",
       "2         4727.0  \n",
       "3         2625.0  \n",
       "4         2863.0  \n",
       "5         4086.0  \n",
       "6         4040.0  \n",
       "7         2417.0  \n",
       "8         3664.0  \n",
       "9         3285.0  \n",
       "10        3098.0  \n",
       "11        2317.0  \n",
       "12       42875.0  \n",
       "13           NaN  "
      ]
     },
     "execution_count": 30,
     "metadata": {},
     "output_type": "execute_result"
    }
   ],
   "source": [
    "data"
   ]
  },
  {
   "cell_type": "code",
   "execution_count": 31,
   "id": "869d8c59",
   "metadata": {},
   "outputs": [
    {
     "data": {
      "text/html": [
       "<div>\n",
       "<style scoped>\n",
       "    .dataframe tbody tr th:only-of-type {\n",
       "        vertical-align: middle;\n",
       "    }\n",
       "\n",
       "    .dataframe tbody tr th {\n",
       "        vertical-align: top;\n",
       "    }\n",
       "\n",
       "    .dataframe thead th {\n",
       "        text-align: right;\n",
       "    }\n",
       "</style>\n",
       "<table border=\"1\" class=\"dataframe\">\n",
       "  <thead>\n",
       "    <tr style=\"text-align: right;\">\n",
       "      <th></th>\n",
       "      <th>Bulan</th>\n",
       "      <th>Laki-Laki</th>\n",
       "      <th>Perempuan</th>\n",
       "      <th>Jumlah Pasien</th>\n",
       "      <th>Hari Rawatan</th>\n",
       "    </tr>\n",
       "  </thead>\n",
       "  <tbody>\n",
       "    <tr>\n",
       "      <th>0</th>\n",
       "      <td>Januari</td>\n",
       "      <td>664.0</td>\n",
       "      <td>758.0</td>\n",
       "      <td>1422.0</td>\n",
       "      <td>4695.0</td>\n",
       "    </tr>\n",
       "    <tr>\n",
       "      <th>1</th>\n",
       "      <td>Februari</td>\n",
       "      <td>550.0</td>\n",
       "      <td>808.0</td>\n",
       "      <td>1358.0</td>\n",
       "      <td>5058.0</td>\n",
       "    </tr>\n",
       "    <tr>\n",
       "      <th>2</th>\n",
       "      <td>Maret</td>\n",
       "      <td>623.0</td>\n",
       "      <td>747.0</td>\n",
       "      <td>1370.0</td>\n",
       "      <td>4727.0</td>\n",
       "    </tr>\n",
       "    <tr>\n",
       "      <th>3</th>\n",
       "      <td>April</td>\n",
       "      <td>269.0</td>\n",
       "      <td>454.0</td>\n",
       "      <td>723.0</td>\n",
       "      <td>2625.0</td>\n",
       "    </tr>\n",
       "    <tr>\n",
       "      <th>4</th>\n",
       "      <td>Mei</td>\n",
       "      <td>328.0</td>\n",
       "      <td>552.0</td>\n",
       "      <td>880.0</td>\n",
       "      <td>2863.0</td>\n",
       "    </tr>\n",
       "  </tbody>\n",
       "</table>\n",
       "</div>"
      ],
      "text/plain": [
       "      Bulan  Laki-Laki  Perempuan  Jumlah Pasien  Hari Rawatan\n",
       "0  Januari       664.0      758.0         1422.0        4695.0\n",
       "1  Februari      550.0      808.0         1358.0        5058.0\n",
       "2     Maret      623.0      747.0         1370.0        4727.0\n",
       "3     April      269.0      454.0          723.0        2625.0\n",
       "4       Mei      328.0      552.0          880.0        2863.0"
      ]
     },
     "execution_count": 31,
     "metadata": {},
     "output_type": "execute_result"
    }
   ],
   "source": [
    "data.head()"
   ]
  },
  {
   "cell_type": "code",
   "execution_count": 32,
   "id": "430c2a04",
   "metadata": {},
   "outputs": [
    {
     "name": "stdout",
     "output_type": "stream",
     "text": [
      "<class 'pandas.core.frame.DataFrame'>\n",
      "RangeIndex: 14 entries, 0 to 13\n",
      "Data columns (total 5 columns):\n",
      " #   Column         Non-Null Count  Dtype  \n",
      "---  ------         --------------  -----  \n",
      " 0   Bulan          14 non-null     object \n",
      " 1   Laki-Laki      13 non-null     float64\n",
      " 2   Perempuan      13 non-null     float64\n",
      " 3   Jumlah Pasien  13 non-null     float64\n",
      " 4   Hari Rawatan   13 non-null     float64\n",
      "dtypes: float64(4), object(1)\n",
      "memory usage: 688.0+ bytes\n"
     ]
    }
   ],
   "source": [
    "data.info()"
   ]
  },
  {
   "cell_type": "code",
   "execution_count": 33,
   "id": "94bd283f",
   "metadata": {},
   "outputs": [
    {
     "data": {
      "text/html": [
       "<div>\n",
       "<style scoped>\n",
       "    .dataframe tbody tr th:only-of-type {\n",
       "        vertical-align: middle;\n",
       "    }\n",
       "\n",
       "    .dataframe tbody tr th {\n",
       "        vertical-align: top;\n",
       "    }\n",
       "\n",
       "    .dataframe thead th {\n",
       "        text-align: right;\n",
       "    }\n",
       "</style>\n",
       "<table border=\"1\" class=\"dataframe\">\n",
       "  <thead>\n",
       "    <tr style=\"text-align: right;\">\n",
       "      <th></th>\n",
       "      <th>Bulan</th>\n",
       "      <th>Laki-Laki</th>\n",
       "      <th>Perempuan</th>\n",
       "      <th>Jumlah Pasien</th>\n",
       "      <th>Hari Rawatan</th>\n",
       "    </tr>\n",
       "  </thead>\n",
       "  <tbody>\n",
       "    <tr>\n",
       "      <th>0</th>\n",
       "      <td>Januari</td>\n",
       "      <td>664.0</td>\n",
       "      <td>758.0</td>\n",
       "      <td>1422.0</td>\n",
       "      <td>4695.0</td>\n",
       "    </tr>\n",
       "    <tr>\n",
       "      <th>1</th>\n",
       "      <td>Februari</td>\n",
       "      <td>550.0</td>\n",
       "      <td>808.0</td>\n",
       "      <td>1358.0</td>\n",
       "      <td>5058.0</td>\n",
       "    </tr>\n",
       "    <tr>\n",
       "      <th>2</th>\n",
       "      <td>Maret</td>\n",
       "      <td>623.0</td>\n",
       "      <td>747.0</td>\n",
       "      <td>1370.0</td>\n",
       "      <td>4727.0</td>\n",
       "    </tr>\n",
       "    <tr>\n",
       "      <th>3</th>\n",
       "      <td>April</td>\n",
       "      <td>269.0</td>\n",
       "      <td>454.0</td>\n",
       "      <td>723.0</td>\n",
       "      <td>2625.0</td>\n",
       "    </tr>\n",
       "    <tr>\n",
       "      <th>4</th>\n",
       "      <td>Mei</td>\n",
       "      <td>328.0</td>\n",
       "      <td>552.0</td>\n",
       "      <td>880.0</td>\n",
       "      <td>2863.0</td>\n",
       "    </tr>\n",
       "    <tr>\n",
       "      <th>5</th>\n",
       "      <td>Juni</td>\n",
       "      <td>439.0</td>\n",
       "      <td>675.0</td>\n",
       "      <td>1114.0</td>\n",
       "      <td>4086.0</td>\n",
       "    </tr>\n",
       "    <tr>\n",
       "      <th>6</th>\n",
       "      <td>Juli</td>\n",
       "      <td>454.0</td>\n",
       "      <td>662.0</td>\n",
       "      <td>1116.0</td>\n",
       "      <td>4040.0</td>\n",
       "    </tr>\n",
       "    <tr>\n",
       "      <th>7</th>\n",
       "      <td>Agustus</td>\n",
       "      <td>302.0</td>\n",
       "      <td>449.0</td>\n",
       "      <td>751.0</td>\n",
       "      <td>2417.0</td>\n",
       "    </tr>\n",
       "    <tr>\n",
       "      <th>8</th>\n",
       "      <td>September</td>\n",
       "      <td>388.0</td>\n",
       "      <td>636.0</td>\n",
       "      <td>1024.0</td>\n",
       "      <td>3664.0</td>\n",
       "    </tr>\n",
       "    <tr>\n",
       "      <th>9</th>\n",
       "      <td>Oktober</td>\n",
       "      <td>294.0</td>\n",
       "      <td>457.0</td>\n",
       "      <td>751.0</td>\n",
       "      <td>3285.0</td>\n",
       "    </tr>\n",
       "    <tr>\n",
       "      <th>10</th>\n",
       "      <td>November</td>\n",
       "      <td>300.0</td>\n",
       "      <td>388.0</td>\n",
       "      <td>688.0</td>\n",
       "      <td>3098.0</td>\n",
       "    </tr>\n",
       "    <tr>\n",
       "      <th>11</th>\n",
       "      <td>Desember</td>\n",
       "      <td>313.0</td>\n",
       "      <td>434.0</td>\n",
       "      <td>747.0</td>\n",
       "      <td>2317.0</td>\n",
       "    </tr>\n",
       "  </tbody>\n",
       "</table>\n",
       "</div>"
      ],
      "text/plain": [
       "        Bulan  Laki-Laki  Perempuan  Jumlah Pasien  Hari Rawatan\n",
       "0    Januari       664.0      758.0         1422.0        4695.0\n",
       "1    Februari      550.0      808.0         1358.0        5058.0\n",
       "2       Maret      623.0      747.0         1370.0        4727.0\n",
       "3       April      269.0      454.0          723.0        2625.0\n",
       "4         Mei      328.0      552.0          880.0        2863.0\n",
       "5        Juni      439.0      675.0         1114.0        4086.0\n",
       "6        Juli      454.0      662.0         1116.0        4040.0\n",
       "7     Agustus      302.0      449.0          751.0        2417.0\n",
       "8   September      388.0      636.0         1024.0        3664.0\n",
       "9     Oktober      294.0      457.0          751.0        3285.0\n",
       "10   November      300.0      388.0          688.0        3098.0\n",
       "11   Desember      313.0      434.0          747.0        2317.0"
      ]
     },
     "execution_count": 33,
     "metadata": {},
     "output_type": "execute_result"
    }
   ],
   "source": [
    "semua_data = data.iloc[:12]\n",
    "semua_data"
   ]
  },
  {
   "cell_type": "code",
   "execution_count": 41,
   "id": "6459419a",
   "metadata": {},
   "outputs": [
    {
     "data": {
      "text/html": [
       "<div>\n",
       "<style scoped>\n",
       "    .dataframe tbody tr th:only-of-type {\n",
       "        vertical-align: middle;\n",
       "    }\n",
       "\n",
       "    .dataframe tbody tr th {\n",
       "        vertical-align: top;\n",
       "    }\n",
       "\n",
       "    .dataframe thead th {\n",
       "        text-align: right;\n",
       "    }\n",
       "</style>\n",
       "<table border=\"1\" class=\"dataframe\">\n",
       "  <thead>\n",
       "    <tr style=\"text-align: right;\">\n",
       "      <th></th>\n",
       "      <th>Bulan</th>\n",
       "      <th>Laki-Laki</th>\n",
       "      <th>Perempuan</th>\n",
       "      <th>Jumlah Pasien</th>\n",
       "      <th>Hari Rawatan</th>\n",
       "    </tr>\n",
       "  </thead>\n",
       "  <tbody>\n",
       "    <tr>\n",
       "      <th>0</th>\n",
       "      <td>Januari</td>\n",
       "      <td>664.0</td>\n",
       "      <td>758.0</td>\n",
       "      <td>1422.0</td>\n",
       "      <td>4695.0</td>\n",
       "    </tr>\n",
       "    <tr>\n",
       "      <th>1</th>\n",
       "      <td>Februari</td>\n",
       "      <td>550.0</td>\n",
       "      <td>808.0</td>\n",
       "      <td>1358.0</td>\n",
       "      <td>5058.0</td>\n",
       "    </tr>\n",
       "    <tr>\n",
       "      <th>2</th>\n",
       "      <td>Maret</td>\n",
       "      <td>623.0</td>\n",
       "      <td>747.0</td>\n",
       "      <td>1370.0</td>\n",
       "      <td>4727.0</td>\n",
       "    </tr>\n",
       "    <tr>\n",
       "      <th>5</th>\n",
       "      <td>Juni</td>\n",
       "      <td>439.0</td>\n",
       "      <td>675.0</td>\n",
       "      <td>1114.0</td>\n",
       "      <td>4086.0</td>\n",
       "    </tr>\n",
       "    <tr>\n",
       "      <th>6</th>\n",
       "      <td>Juli</td>\n",
       "      <td>454.0</td>\n",
       "      <td>662.0</td>\n",
       "      <td>1116.0</td>\n",
       "      <td>4040.0</td>\n",
       "    </tr>\n",
       "    <tr>\n",
       "      <th>8</th>\n",
       "      <td>September</td>\n",
       "      <td>388.0</td>\n",
       "      <td>636.0</td>\n",
       "      <td>1024.0</td>\n",
       "      <td>3664.0</td>\n",
       "    </tr>\n",
       "  </tbody>\n",
       "</table>\n",
       "</div>"
      ],
      "text/plain": [
       "       Bulan  Laki-Laki  Perempuan  Jumlah Pasien  Hari Rawatan\n",
       "0   Januari       664.0      758.0         1422.0        4695.0\n",
       "1   Februari      550.0      808.0         1358.0        5058.0\n",
       "2      Maret      623.0      747.0         1370.0        4727.0\n",
       "5       Juni      439.0      675.0         1114.0        4086.0\n",
       "6       Juli      454.0      662.0         1116.0        4040.0\n",
       "8  September      388.0      636.0         1024.0        3664.0"
      ]
     },
     "execution_count": 41,
     "metadata": {},
     "output_type": "execute_result"
    }
   ],
   "source": [
    "jumlah_pasien_diata900 = semua_data['Jumlah Pasien']>1000\n",
    "semua_data[jumlah_pasien_diata900]"
   ]
  },
  {
   "cell_type": "code",
   "execution_count": 35,
   "id": "2dc6fb65",
   "metadata": {},
   "outputs": [
    {
     "data": {
      "text/plain": [
       "Text(0, 0.5, 'Jumlah Pasien')"
      ]
     },
     "execution_count": 35,
     "metadata": {},
     "output_type": "execute_result"
    },
    {
     "data": {
      "image/png": "[encoded data removed]",
      "text/plain": [
       "<Figure size 576x396 with 1 Axes>"
      ]
     },
     "metadata": {},
     "output_type": "display_data"
    }
   ],
   "source": [
    "jumlah = semua_data['Jumlah Pasien']\n",
    "plt.plot(jumlah)\n",
    "plt.xlabel('Bulan')\n",
    "plt.ylabel('Jumlah Pasien')"
   ]
  },
  {
   "cell_type": "code",
   "execution_count": 36,
   "id": "be449969",
   "metadata": {},
   "outputs": [
    {
     "data": {
      "image/png": "[encoded data removed]",
      "text/plain": [
       "<Figure size 576x396 with 1 Axes>"
      ]
     },
     "metadata": {},
     "output_type": "display_data"
    }
   ],
   "source": [
    "data.plot()\n",
    "plt.yscale('log')"
   ]
  },
  {
   "cell_type": "code",
   "execution_count": 47,
   "id": "775163f4",
   "metadata": {},
   "outputs": [
    {
     "data": {
      "text/plain": [
       "1422.0"
      ]
     },
     "execution_count": 47,
     "metadata": {},
     "output_type": "execute_result"
    }
   ],
   "source": [
    "jumlah.max()"
   ]
  },
  {
   "cell_type": "code",
   "execution_count": 44,
   "id": "0c5214dd",
   "metadata": {},
   "outputs": [
    {
     "data": {
      "text/plain": [
       "995.3333333333334"
      ]
     },
     "execution_count": 44,
     "metadata": {},
     "output_type": "execute_result"
    }
   ],
   "source": [
    "jumlah.mean()"
   ]
  },
  {
   "cell_type": "code",
   "execution_count": null,
   "id": "d09a4426",
   "metadata": {},
   "outputs": [],
   "source": []
  }
 ],
 "metadata": {
  "kernelspec": {
   "display_name": "Python 3",
   "language": "python",
   "name": "python3"
  },
  "language_info": {
   "codemirror_mode": {
    "name": "ipython",
    "version": 3
   },
   "file_extension": ".py",
   "mimetype": "text/x-python",
   "name": "python",
   "nbconvert_exporter": "python",
   "pygments_lexer": "ipython3",
   "version": "3.8.5"
  }
 },
 "nbformat": 4,
 "nbformat_minor": 5
}
